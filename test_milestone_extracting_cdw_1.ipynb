import numpy as np

def test_fun_s():
    Delta = 20
    Gamma = 20
    T = 1
    q_range = np.arange(-30, 31)
    
    for x in q_range:
        result = fun_s(x, Delta, Gamma, T, q_range)
        print(f"fun_s({x}) = {result}")

test_fun_s()