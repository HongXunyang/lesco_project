import numpy as np

def test_fun_DHO():
    x_values = np.linspace(-10, 10, 5)  # Example x values
    x0 = 0  # Example x0 value
    A_values = [1, 2, 3]  # Example A values
    gamma = 0.5  # Example gamma value
    
    for x in x_values:
        for A in A_values:
            result = fun_DHO(x, x0, A, gamma)
            print(f"fun_DHO({x}, {x0}, {A}, {gamma}) = {result}")

test_fun_DHO()